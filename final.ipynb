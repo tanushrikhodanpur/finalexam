{
 "cells": [
  {
   "cell_type": "markdown",
   "metadata": {},
   "source": [
    "1)"
   ]
  },
  {
   "cell_type": "code",
   "execution_count": 1,
   "metadata": {},
   "outputs": [
    {
     "name": "stdout",
     "output_type": "stream",
     "text": [
      "11\t12\t13\t14\t\n",
      "15\t16\t17\t18\t\n",
      "19\t20\t21\t22\t\n",
      "23\t24\t25\t26\t\n"
     ]
    }
   ],
   "source": [
    "# Define a 4x4 matrix using a list of lists\n",
    "matrix = [\n",
    "    [11, 12, 13, 14],\n",
    "    [15, 16, 17, 18],\n",
    "    [19, 20, 21, 22],\n",
    "    [23, 24, 25, 26]\n",
    "]\n",
    "\n",
    "for row in matrix:\n",
    "    for element in row:\n",
    "        print(element, end=\"\\t\") \n",
    "    print()"
   ]
  },
  {
   "cell_type": "code",
   "execution_count": 4,
   "metadata": {},
   "outputs": [
    {
     "name": "stdout",
     "output_type": "stream",
     "text": [
      "Odd numbers in the list: [1, 2, 3, 4, 5, 6, 7]\n"
     ]
    }
   ],
   "source": [
    "input_str = input(\"Enter a list of numbers separated by spaces: \")\n",
    "\n",
    "number_strings = input_str.split()\n",
    "\n",
    "\n",
    "odd_numbers = [1,2,3,4,5,6,7]\n",
    "\n",
    "for num_str in number_strings:\n",
    "    try:\n",
    "        num = int(num_str)\n",
    "        if num % 2 != 0:\n",
    "            odd_numbers.append(num)\n",
    "    except ValueError:\n",
    "        pass  \n",
    "print(\"Odd numbers in the list:\", odd_numbers)"
   ]
  },
  {
   "cell_type": "code",
   "execution_count": 2,
   "metadata": {},
   "outputs": [
    {
     "name": "stdout",
     "output_type": "stream",
     "text": [
      "John Doe is a Manager with an annual salary of $72000.00\n"
     ]
    }
   ],
   "source": [
    "class Employee:\n",
    "    def __init__(self, name, position, salary):\n",
    "        self.name = name\n",
    "        self.position = position\n",
    "        self.salary = salary\n",
    "\n",
    "    def calculate_annual_salary(self):\n",
    "        annual_salary = self.salary * 12\n",
    "        return annual_salary\n",
    "\n",
    "# Create an Employee instance\n",
    "employee1 = Employee(\"John Doe\", \"Manager\", 6000)\n",
    "\n",
    "# Calculate the annual salary\n",
    "annual_salary = employee1.calculate_annual_salary()\n",
    "\n",
    "# Print the employee's information\n",
    "print(f\"{employee1.name} is a {employee1.position} with an annual salary of ${annual_salary:.2f}\")\n"
   ]
  },
  {
   "cell_type": "code",
   "execution_count": 1,
   "metadata": {},
   "outputs": [],
   "source": [
    "import cv2\n",
    "import numpy as np\n",
    "\n",
    "# Load the colored image\n",
    "image = cv2.imread('image.jpg')\n",
    "\n",
    "# Check if the image is loaded successfully\n",
    "if image is None:\n",
    "    print(\"Error: Image not found.\")\n",
    "else:\n",
    "    # Convert the colored image to grayscale\n",
    "    grayscale_image = cv2.cvtColor(image, cv2.COLOR_BGR2GRAY)\n",
    "\n",
    "    # Get the height and width of the image\n",
    "    height, width = grayscale_image.shape[:2]\n",
    "\n",
    "    # Define the rotation matrix for a 45-degree clockwise rotation\n",
    "    rotation_matrix = cv2.getRotationMatrix2D((width / 2, height / 2), 45, 1)\n",
    "\n",
    "    # Apply the rotation to the grayscale image\n",
    "    rotated_image = cv2.warpAffine(grayscale_image, rotation_matrix, (width, height))\n",
    "\n",
    "    # Display the grayscale and rotated image\n",
    "    cv2.imshow('Grayscale Image', grayscale_image)\n",
    "    cv2.imshow('Rotated Image', rotated_image)\n",
    "\n",
    "    # Save the rotated image\n",
    "    cv2.imwrite('rotated_image.jpg', rotated_image)\n",
    "\n",
    "    # Wait for a key press and then close the windows\n",
    "    cv2.waitKey(0)\n",
    "    cv2.destroyAllWindows()"
   ]
  },
  {
   "cell_type": "code",
   "execution_count": 1,
   "metadata": {},
   "outputs": [
    {
     "name": "stdout",
     "output_type": "stream",
     "text": [
      "Resultant Matrix:\n",
      "[58, 64]\n",
      "[139, 154]\n",
      "Order of Resultant Matrix: (2, 2)\n"
     ]
    }
   ],
   "source": [
    "def matrix_multiply(matrix1, matrix2):\n",
    "    # Get the dimensions of the input matrices\n",
    "    rows1, cols1 = len(matrix1), len(matrix1[0])\n",
    "    rows2, cols2 = len(matrix2), len(matrix2[0])\n",
    "\n",
    "    # Check if the matrices can be multiplied\n",
    "    if cols1 != rows2:\n",
    "        return None  # Matrices cannot be multiplied\n",
    "\n",
    "    # Initialize the resultant matrix with zeros\n",
    "    result = [[0 for _ in range(cols2)] for _ in range(rows1)]\n",
    "\n",
    "    # Perform matrix multiplication\n",
    "    for i in range(rows1):\n",
    "        for j in range(cols2):\n",
    "            for k in range(cols1):\n",
    "                result[i][j] += matrix1[i][k] * matrix2[k][j]\n",
    "\n",
    "    return result, (rows1, cols2)\n",
    "\n",
    "# Example matrices\n",
    "matrix1 = [[1, 2, 3],\n",
    "           [4, 5, 6]]\n",
    "matrix2 = [[7, 8],\n",
    "           [9, 10],\n",
    "           [11, 12]]\n",
    "\n",
    "# Multiply the matrices and check the resultant matrix order\n",
    "result_matrix, order = matrix_multiply(matrix1, matrix2)\n",
    "\n",
    "if result_matrix is not None:\n",
    "    print(\"Resultant Matrix:\")\n",
    "    for row in result_matrix:\n",
    "        print(row)\n",
    "    print(f\"Order of Resultant Matrix: {order}\")\n",
    "else:\n",
    "    print(\"Matrices cannot be multiplied due to incompatible dimensions.\")"
   ]
  }
 ],
 "metadata": {
  "kernelspec": {
   "display_name": "Python 3",
   "language": "python",
   "name": "python3"
  },
  "language_info": {
   "codemirror_mode": {
    "name": "ipython",
    "version": 3
   },
   "file_extension": ".py",
   "mimetype": "text/x-python",
   "name": "python",
   "nbconvert_exporter": "python",
   "pygments_lexer": "ipython3",
   "version": "3.11.3"
  },
  "orig_nbformat": 4
 },
 "nbformat": 4,
 "nbformat_minor": 2
}
